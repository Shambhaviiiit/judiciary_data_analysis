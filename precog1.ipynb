{
  "cells": [
    {
      "cell_type": "markdown",
      "metadata": {
        "id": "view-in-github",
        "colab_type": "text"
      },
      "source": [
        "<a href=\"https://colab.research.google.com/github/Shambhaviiiit/judiciary_data_analysis/blob/main/precog1.ipynb\" target=\"_parent\"><img src=\"https://colab.research.google.com/assets/colab-badge.svg\" alt=\"Open In Colab\"/></a>"
      ]
    },
    {
      "cell_type": "code",
      "source": [
        "from google.colab import drive\n",
        "drive.mount('/content/drive')"
      ],
      "metadata": {
        "colab": {
          "base_uri": "https://localhost:8080/"
        },
        "id": "wixK7_EebyMB",
        "outputId": "66104ca9-d3e5-49b4-caf9-0ab34841d2e0"
      },
      "execution_count": null,
      "outputs": [
        {
          "output_type": "stream",
          "name": "stdout",
          "text": [
            "Mounted at /content/drive\n"
          ]
        }
      ]
    },
    {
      "cell_type": "code",
      "execution_count": null,
      "metadata": {
        "id": "onHmsqVPKdVe",
        "colab": {
          "base_uri": "https://localhost:8080/"
        },
        "outputId": "aa50d41c-2d18-4495-a977-f3b3cdc88c55"
      },
      "outputs": [
        {
          "output_type": "stream",
          "name": "stdout",
          "text": [
            "cases_2010.csv\tcases_2011.csv\tcases_2012.csv\tcases_2013.csv\tcases_2015.csv\n"
          ]
        }
      ],
      "source": [
        "!ls \"/content/drive/My Drive/precog/cases/cases\""
      ]
    },
    {
      "cell_type": "code",
      "source": [
        "import dask.dataframe as dd\n",
        "from dask.diagnostics import ProgressBar\n",
        "import numpy as np"
      ],
      "metadata": {
        "id": "4h-dcpx8G1lH"
      },
      "execution_count": null,
      "outputs": []
    },
    {
      "cell_type": "code",
      "source": [
        "!cd \"/content/drive/My Drive/precog\""
      ],
      "metadata": {
        "id": "-zdXwzAIG1qX"
      },
      "execution_count": null,
      "outputs": []
    },
    {
      "cell_type": "code",
      "source": [
        "!ls\n"
      ],
      "metadata": {
        "colab": {
          "base_uri": "https://localhost:8080/"
        },
        "id": "yUy4w12O2pHd",
        "outputId": "1bc2eaee-00c3-42d8-ad3f-5245fb0b1324"
      },
      "execution_count": null,
      "outputs": [
        {
          "output_type": "stream",
          "name": "stdout",
          "text": [
            "drive  sample_data\n"
          ]
        }
      ]
    },
    {
      "cell_type": "code",
      "source": [
        "cases_2010 = dd.read_csv('/content/drive/MyDrive/precog/cases/cases/cases_2010.csv', assume_missing = True, parse_dates=['date_of_filing'])\n",
        "cases_2011 = dd.read_csv('/content/drive/MyDrive/precog/cases/cases/cases_2011.csv', assume_missing = True)\n",
        "cases_2012 = dd.read_csv('/content/drive/MyDrive/precog/cases/cases/cases_2012.csv', assume_missing = True)\n",
        "cases_2013 = dd.read_csv('/content/drive/MyDrive/precog/cases/cases/cases_2013.csv', assume_missing = True)\n",
        "cases_2015 = dd.read_csv('/content/drive/MyDrive/precog/cases/cases/cases_2015.csv', assume_missing = True)"
      ],
      "metadata": {
        "id": "-etPw_m3HRel"
      },
      "execution_count": null,
      "outputs": []
    },
    {
      "cell_type": "code",
      "source": [
        "from functools import reduce\n",
        "columns = [set(cases_2010.columns),set(cases_2011.columns),set(cases_2012.columns),set(cases_2013.columns),set(cases_2015.columns)]\n",
        "common_cols = list(reduce(lambda a, i: a.intersection(i), columns))\n",
        "common_cols"
      ],
      "metadata": {
        "colab": {
          "base_uri": "https://localhost:8080/"
        },
        "id": "2iswiX-RGHnV",
        "outputId": "5acffdd7-89ae-4b1a-cb57-1cd4980dc691"
      },
      "execution_count": null,
      "outputs": [
        {
          "output_type": "execute_result",
          "data": {
            "text/plain": [
              "['date_of_decision',\n",
              " 'date_first_list',\n",
              " 'purpose_name',\n",
              " 'state_code',\n",
              " 'female_adv_def',\n",
              " 'date_of_filing',\n",
              " 'dist_code',\n",
              " 'female_petitioner',\n",
              " 'disp_name',\n",
              " 'court_no',\n",
              " 'date_next_list',\n",
              " 'year',\n",
              " 'cino',\n",
              " 'ddl_case_id',\n",
              " 'female_defendant',\n",
              " 'female_adv_pet',\n",
              " 'date_last_list',\n",
              " 'type_name',\n",
              " 'judge_position']"
            ]
          },
          "metadata": {},
          "execution_count": 4
        }
      ]
    },
    {
      "cell_type": "code",
      "source": [
        "cases_2010[common_cols].head()"
      ],
      "metadata": {
        "colab": {
          "base_uri": "https://localhost:8080/",
          "height": 357
        },
        "id": "jxmyrP64X3t7",
        "outputId": "5c61615e-f02d-4035-b2e3-f818bb44f7da"
      },
      "execution_count": null,
      "outputs": [
        {
          "output_type": "execute_result",
          "data": {
            "text/plain": [
              "  date_of_decision  female_adv_pet               ddl_case_id  female_adv_def  \\\n",
              "0       2011-06-19         -9998.0  01-01-01-200308002162010             0.0   \n",
              "1       2010-11-21             0.0  01-01-01-200707000172010         -9999.0   \n",
              "2       2010-11-21             0.0  01-01-01-200707000182010         -9999.0   \n",
              "3       2010-11-21             0.0  01-01-01-200707000192010         -9999.0   \n",
              "4       2010-11-21             0.0  01-01-01-200707000202010         -9999.0   \n",
              "\n",
              "  date_first_list  disp_name  type_name date_next_list  purpose_name  \\\n",
              "0      2011-06-08       42.0      790.0     2011-06-24        5228.0   \n",
              "1      2010-08-06       42.0     2587.0     2010-11-30        3627.0   \n",
              "2      2010-08-06       42.0     2587.0     2010-11-30        3627.0   \n",
              "3      2010-08-06       42.0     2587.0     2010-11-30        3627.0   \n",
              "4      2010-08-06       42.0     2587.0     2010-11-30        3627.0   \n",
              "\n",
              "  female_petitioner              cino  dist_code date_last_list  state_code  \\\n",
              "0          1 female  MHNB030013812010        1.0     2011-06-20         1.0   \n",
              "1          1 female  MHNB030004552010        1.0     2010-08-06         1.0   \n",
              "2     -9998 unclear  MHNB030004562010        1.0     2010-08-06         1.0   \n",
              "3          1 female  MHNB030004582010        1.0     2010-08-06         1.0   \n",
              "4     -9998 unclear  MHNB030004592010        1.0     2010-08-06         1.0   \n",
              "\n",
              "              judge_position    year  court_no date_of_filing female_defendant  \n",
              "0  chief judicial magistrate  2010.0       1.0     2010-12-13           0 male  \n",
              "1  chief judicial magistrate  2010.0       1.0     2010-02-25    -9998 unclear  \n",
              "2  chief judicial magistrate  2010.0       1.0     2010-02-25    -9998 unclear  \n",
              "3  chief judicial magistrate  2010.0       1.0     2010-02-25    -9998 unclear  \n",
              "4  chief judicial magistrate  2010.0       1.0     2010-02-25    -9998 unclear  "
            ],
            "text/html": [
              "\n",
              "  <div id=\"df-0c02965a-1463-4869-9766-a99cb6c42ee6\">\n",
              "    <div class=\"colab-df-container\">\n",
              "      <div>\n",
              "<style scoped>\n",
              "    .dataframe tbody tr th:only-of-type {\n",
              "        vertical-align: middle;\n",
              "    }\n",
              "\n",
              "    .dataframe tbody tr th {\n",
              "        vertical-align: top;\n",
              "    }\n",
              "\n",
              "    .dataframe thead th {\n",
              "        text-align: right;\n",
              "    }\n",
              "</style>\n",
              "<table border=\"1\" class=\"dataframe\">\n",
              "  <thead>\n",
              "    <tr style=\"text-align: right;\">\n",
              "      <th></th>\n",
              "      <th>date_of_decision</th>\n",
              "      <th>female_adv_pet</th>\n",
              "      <th>ddl_case_id</th>\n",
              "      <th>female_adv_def</th>\n",
              "      <th>date_first_list</th>\n",
              "      <th>disp_name</th>\n",
              "      <th>type_name</th>\n",
              "      <th>date_next_list</th>\n",
              "      <th>purpose_name</th>\n",
              "      <th>female_petitioner</th>\n",
              "      <th>cino</th>\n",
              "      <th>dist_code</th>\n",
              "      <th>date_last_list</th>\n",
              "      <th>state_code</th>\n",
              "      <th>judge_position</th>\n",
              "      <th>year</th>\n",
              "      <th>court_no</th>\n",
              "      <th>date_of_filing</th>\n",
              "      <th>female_defendant</th>\n",
              "    </tr>\n",
              "  </thead>\n",
              "  <tbody>\n",
              "    <tr>\n",
              "      <th>0</th>\n",
              "      <td>2011-06-19</td>\n",
              "      <td>-9998.0</td>\n",
              "      <td>01-01-01-200308002162010</td>\n",
              "      <td>0.0</td>\n",
              "      <td>2011-06-08</td>\n",
              "      <td>42.0</td>\n",
              "      <td>790.0</td>\n",
              "      <td>2011-06-24</td>\n",
              "      <td>5228.0</td>\n",
              "      <td>1 female</td>\n",
              "      <td>MHNB030013812010</td>\n",
              "      <td>1.0</td>\n",
              "      <td>2011-06-20</td>\n",
              "      <td>1.0</td>\n",
              "      <td>chief judicial magistrate</td>\n",
              "      <td>2010.0</td>\n",
              "      <td>1.0</td>\n",
              "      <td>2010-12-13</td>\n",
              "      <td>0 male</td>\n",
              "    </tr>\n",
              "    <tr>\n",
              "      <th>1</th>\n",
              "      <td>2010-11-21</td>\n",
              "      <td>0.0</td>\n",
              "      <td>01-01-01-200707000172010</td>\n",
              "      <td>-9999.0</td>\n",
              "      <td>2010-08-06</td>\n",
              "      <td>42.0</td>\n",
              "      <td>2587.0</td>\n",
              "      <td>2010-11-30</td>\n",
              "      <td>3627.0</td>\n",
              "      <td>1 female</td>\n",
              "      <td>MHNB030004552010</td>\n",
              "      <td>1.0</td>\n",
              "      <td>2010-08-06</td>\n",
              "      <td>1.0</td>\n",
              "      <td>chief judicial magistrate</td>\n",
              "      <td>2010.0</td>\n",
              "      <td>1.0</td>\n",
              "      <td>2010-02-25</td>\n",
              "      <td>-9998 unclear</td>\n",
              "    </tr>\n",
              "    <tr>\n",
              "      <th>2</th>\n",
              "      <td>2010-11-21</td>\n",
              "      <td>0.0</td>\n",
              "      <td>01-01-01-200707000182010</td>\n",
              "      <td>-9999.0</td>\n",
              "      <td>2010-08-06</td>\n",
              "      <td>42.0</td>\n",
              "      <td>2587.0</td>\n",
              "      <td>2010-11-30</td>\n",
              "      <td>3627.0</td>\n",
              "      <td>-9998 unclear</td>\n",
              "      <td>MHNB030004562010</td>\n",
              "      <td>1.0</td>\n",
              "      <td>2010-08-06</td>\n",
              "      <td>1.0</td>\n",
              "      <td>chief judicial magistrate</td>\n",
              "      <td>2010.0</td>\n",
              "      <td>1.0</td>\n",
              "      <td>2010-02-25</td>\n",
              "      <td>-9998 unclear</td>\n",
              "    </tr>\n",
              "    <tr>\n",
              "      <th>3</th>\n",
              "      <td>2010-11-21</td>\n",
              "      <td>0.0</td>\n",
              "      <td>01-01-01-200707000192010</td>\n",
              "      <td>-9999.0</td>\n",
              "      <td>2010-08-06</td>\n",
              "      <td>42.0</td>\n",
              "      <td>2587.0</td>\n",
              "      <td>2010-11-30</td>\n",
              "      <td>3627.0</td>\n",
              "      <td>1 female</td>\n",
              "      <td>MHNB030004582010</td>\n",
              "      <td>1.0</td>\n",
              "      <td>2010-08-06</td>\n",
              "      <td>1.0</td>\n",
              "      <td>chief judicial magistrate</td>\n",
              "      <td>2010.0</td>\n",
              "      <td>1.0</td>\n",
              "      <td>2010-02-25</td>\n",
              "      <td>-9998 unclear</td>\n",
              "    </tr>\n",
              "    <tr>\n",
              "      <th>4</th>\n",
              "      <td>2010-11-21</td>\n",
              "      <td>0.0</td>\n",
              "      <td>01-01-01-200707000202010</td>\n",
              "      <td>-9999.0</td>\n",
              "      <td>2010-08-06</td>\n",
              "      <td>42.0</td>\n",
              "      <td>2587.0</td>\n",
              "      <td>2010-11-30</td>\n",
              "      <td>3627.0</td>\n",
              "      <td>-9998 unclear</td>\n",
              "      <td>MHNB030004592010</td>\n",
              "      <td>1.0</td>\n",
              "      <td>2010-08-06</td>\n",
              "      <td>1.0</td>\n",
              "      <td>chief judicial magistrate</td>\n",
              "      <td>2010.0</td>\n",
              "      <td>1.0</td>\n",
              "      <td>2010-02-25</td>\n",
              "      <td>-9998 unclear</td>\n",
              "    </tr>\n",
              "  </tbody>\n",
              "</table>\n",
              "</div>\n",
              "      <button class=\"colab-df-convert\" onclick=\"convertToInteractive('df-0c02965a-1463-4869-9766-a99cb6c42ee6')\"\n",
              "              title=\"Convert this dataframe to an interactive table.\"\n",
              "              style=\"display:none;\">\n",
              "        \n",
              "  <svg xmlns=\"http://www.w3.org/2000/svg\" height=\"24px\"viewBox=\"0 0 24 24\"\n",
              "       width=\"24px\">\n",
              "    <path d=\"M0 0h24v24H0V0z\" fill=\"none\"/>\n",
              "    <path d=\"M18.56 5.44l.94 2.06.94-2.06 2.06-.94-2.06-.94-.94-2.06-.94 2.06-2.06.94zm-11 1L8.5 8.5l.94-2.06 2.06-.94-2.06-.94L8.5 2.5l-.94 2.06-2.06.94zm10 10l.94 2.06.94-2.06 2.06-.94-2.06-.94-.94-2.06-.94 2.06-2.06.94z\"/><path d=\"M17.41 7.96l-1.37-1.37c-.4-.4-.92-.59-1.43-.59-.52 0-1.04.2-1.43.59L10.3 9.45l-7.72 7.72c-.78.78-.78 2.05 0 2.83L4 21.41c.39.39.9.59 1.41.59.51 0 1.02-.2 1.41-.59l7.78-7.78 2.81-2.81c.8-.78.8-2.07 0-2.86zM5.41 20L4 18.59l7.72-7.72 1.47 1.35L5.41 20z\"/>\n",
              "  </svg>\n",
              "      </button>\n",
              "      \n",
              "  <style>\n",
              "    .colab-df-container {\n",
              "      display:flex;\n",
              "      flex-wrap:wrap;\n",
              "      gap: 12px;\n",
              "    }\n",
              "\n",
              "    .colab-df-convert {\n",
              "      background-color: #E8F0FE;\n",
              "      border: none;\n",
              "      border-radius: 50%;\n",
              "      cursor: pointer;\n",
              "      display: none;\n",
              "      fill: #1967D2;\n",
              "      height: 32px;\n",
              "      padding: 0 0 0 0;\n",
              "      width: 32px;\n",
              "    }\n",
              "\n",
              "    .colab-df-convert:hover {\n",
              "      background-color: #E2EBFA;\n",
              "      box-shadow: 0px 1px 2px rgba(60, 64, 67, 0.3), 0px 1px 3px 1px rgba(60, 64, 67, 0.15);\n",
              "      fill: #174EA6;\n",
              "    }\n",
              "\n",
              "    [theme=dark] .colab-df-convert {\n",
              "      background-color: #3B4455;\n",
              "      fill: #D2E3FC;\n",
              "    }\n",
              "\n",
              "    [theme=dark] .colab-df-convert:hover {\n",
              "      background-color: #434B5C;\n",
              "      box-shadow: 0px 1px 3px 1px rgba(0, 0, 0, 0.15);\n",
              "      filter: drop-shadow(0px 1px 2px rgba(0, 0, 0, 0.3));\n",
              "      fill: #FFFFFF;\n",
              "    }\n",
              "  </style>\n",
              "\n",
              "      <script>\n",
              "        const buttonEl =\n",
              "          document.querySelector('#df-0c02965a-1463-4869-9766-a99cb6c42ee6 button.colab-df-convert');\n",
              "        buttonEl.style.display =\n",
              "          google.colab.kernel.accessAllowed ? 'block' : 'none';\n",
              "\n",
              "        async function convertToInteractive(key) {\n",
              "          const element = document.querySelector('#df-0c02965a-1463-4869-9766-a99cb6c42ee6');\n",
              "          const dataTable =\n",
              "            await google.colab.kernel.invokeFunction('convertToInteractive',\n",
              "                                                     [key], {});\n",
              "          if (!dataTable) return;\n",
              "\n",
              "          const docLinkHtml = 'Like what you see? Visit the ' +\n",
              "            '<a target=\"_blank\" href=https://colab.research.google.com/notebooks/data_table.ipynb>data table notebook</a>'\n",
              "            + ' to learn more about interactive tables.';\n",
              "          element.innerHTML = '';\n",
              "          dataTable['output_type'] = 'display_data';\n",
              "          await google.colab.output.renderOutput(dataTable, element);\n",
              "          const docLink = document.createElement('div');\n",
              "          docLink.innerHTML = docLinkHtml;\n",
              "          element.appendChild(docLink);\n",
              "        }\n",
              "      </script>\n",
              "    </div>\n",
              "  </div>\n",
              "  "
            ]
          },
          "metadata": {},
          "execution_count": 5
        }
      ]
    },
    {
      "cell_type": "code",
      "source": [
        "dtypes = dict([(x, np.str) for x in common_cols])\n",
        "dtypes"
      ],
      "metadata": {
        "colab": {
          "base_uri": "https://localhost:8080/"
        },
        "id": "10s90ncnaQ-r",
        "outputId": "f31a5874-0ee6-4800-c38c-9352871c12e2"
      },
      "execution_count": null,
      "outputs": [
        {
          "output_type": "stream",
          "name": "stderr",
          "text": [
            "<ipython-input-5-f8c8989a1b81>:1: DeprecationWarning: `np.str` is a deprecated alias for the builtin `str`. To silence this warning, use `str` by itself. Doing this will not modify any behavior and is safe. If you specifically wanted the numpy scalar type, use `np.str_` here.\n",
            "Deprecated in NumPy 1.20; for more details and guidance: https://numpy.org/devdocs/release/1.20.0-notes.html#deprecations\n",
            "  dtypes = dict([(x, np.str) for x in common_cols])\n"
          ]
        },
        {
          "output_type": "execute_result",
          "data": {
            "text/plain": [
              "{'date_of_decision': str,\n",
              " 'date_first_list': str,\n",
              " 'purpose_name': str,\n",
              " 'state_code': str,\n",
              " 'female_adv_def': str,\n",
              " 'date_of_filing': str,\n",
              " 'dist_code': str,\n",
              " 'female_petitioner': str,\n",
              " 'disp_name': str,\n",
              " 'court_no': str,\n",
              " 'date_next_list': str,\n",
              " 'year': str,\n",
              " 'cino': str,\n",
              " 'ddl_case_id': str,\n",
              " 'female_defendant': str,\n",
              " 'female_adv_pet': str,\n",
              " 'date_last_list': str,\n",
              " 'type_name': str,\n",
              " 'judge_position': str}"
            ]
          },
          "metadata": {},
          "execution_count": 5
        }
      ]
    },
    {
      "cell_type": "markdown",
      "metadata": {
        "id": "OCtFfi4xL9Hq"
      },
      "source": [
        "* time required to conclude cases\n",
        "* number of hearings for each cases"
      ]
    },
    {
      "cell_type": "code",
      "source": [
        "with ProgressBar():\n",
        "  print(cases_2010['judge_position'].unique())"
      ],
      "metadata": {
        "colab": {
          "base_uri": "https://localhost:8080/"
        },
        "id": "r8WK9r_rbM55",
        "outputId": "435c9e96-6fb1-4025-9c84-fd8f1c7c83b6"
      },
      "execution_count": null,
      "outputs": [
        {
          "output_type": "stream",
          "name": "stdout",
          "text": [
            "Dask Series Structure:\n",
            "npartitions=1\n",
            "    object\n",
            "       ...\n",
            "Name: judge_position, dtype: object\n",
            "Dask Name: unique-agg, 42 tasks\n"
          ]
        }
      ]
    },
    {
      "cell_type": "code",
      "source": [
        "judges_pret = cases_2010.judge_position.unique()\n",
        "judges_pret\n",
        "# judges_pset = set(cases_2010.judge_position)\n",
        "# len(judges_pset)\n",
        "jp = len(cases_2010)"
      ],
      "metadata": {
        "colab": {
          "base_uri": "https://localhost:8080/"
        },
        "id": "RzlGfSXAgTIQ",
        "outputId": "97221279-0513-43e7-adbc-e9b709c8abf3"
      },
      "execution_count": null,
      "outputs": [
        {
          "output_type": "execute_result",
          "data": {
            "text/plain": [
              "Dask Series Structure:\n",
              "npartitions=1\n",
              "    object\n",
              "       ...\n",
              "Name: judge_position, dtype: object\n",
              "Dask Name: unique-agg, 42 tasks"
            ]
          },
          "metadata": {},
          "execution_count": 31
        }
      ]
    },
    {
      "cell_type": "code",
      "source": [
        "cases_2010.groupby(by=\"judge_position\").mean().compute().year"
      ],
      "metadata": {
        "colab": {
          "base_uri": "https://localhost:8080/"
        },
        "id": "7M3ahuZo7LQ1",
        "outputId": "316edd8e-7275-4a74-f40d-ecdd43d71d02"
      },
      "execution_count": null,
      "outputs": [
        {
          "output_type": "execute_result",
          "data": {
            "text/plain": [
              "judge_position\n",
              "additional district and sessions court           2010.0\n",
              "chief judicial magistrate                        2010.0\n",
              "civil court                                      2010.0\n",
              "civil judge                                      2010.0\n",
              "civil judge junior division                      2010.0\n",
              "                                                  ...  \n",
              "special court n.d.p.s, mapusa                    2010.0\n",
              "special mobile court                             2010.0\n",
              "spl judges court spe and acb cases karimnagar    2010.0\n",
              "v addl. cmm                                      2010.0\n",
              "womens court                                     2010.0\n",
              "Name: year, Length: 434, dtype: float64"
            ]
          },
          "metadata": {},
          "execution_count": 36
        }
      ]
    },
    {
      "cell_type": "markdown",
      "source": [
        "# Analysis on time required to conclude cases\n",
        "* list of time span for each case to conclude\n",
        "* cases that haven't been concluded yet will not be included in the total (cleaned for that purpose)\n",
        "* how many cases per year were filed and concluded within 6 months\n",
        "* what is the percentage increase in the number of cases solved within 6 months every year, and from 2010 to 2018\n"
      ],
      "metadata": {
        "id": "cWbzPKU9aJYu"
      }
    },
    {
      "cell_type": "code",
      "source": [
        "nona_10 = cases_2010\n",
        "nona_10.dropna\n",
        "date_filed = nona_10.date_of_filing\n",
        "date_filed.head()"
      ],
      "metadata": {
        "colab": {
          "base_uri": "https://localhost:8080/"
        },
        "id": "WUjRqfyNbPpT",
        "outputId": "be23c841-4c1c-48d0-9471-196e35282e38"
      },
      "execution_count": null,
      "outputs": [
        {
          "output_type": "execute_result",
          "data": {
            "text/plain": [
              "0   2010-12-13\n",
              "1   2010-02-25\n",
              "2   2010-02-25\n",
              "3   2010-02-25\n",
              "4   2010-02-25\n",
              "Name: date_of_filing, dtype: datetime64[ns]"
            ]
          },
          "metadata": {},
          "execution_count": 9
        }
      ]
    },
    {
      "cell_type": "code",
      "source": [
        "date_decide = nona_10.date_of_decision\n",
        "date_decide.head()"
      ],
      "metadata": {
        "id": "Yvf-ogFY23xU",
        "colab": {
          "base_uri": "https://localhost:8080/"
        },
        "outputId": "0b1756aa-093d-4366-a9b4-44ec90d18e83"
      },
      "execution_count": null,
      "outputs": [
        {
          "output_type": "execute_result",
          "data": {
            "text/plain": [
              "0    2011-06-19\n",
              "1    2010-11-21\n",
              "2    2010-11-21\n",
              "3    2010-11-21\n",
              "4    2010-11-21\n",
              "Name: date_of_decision, dtype: object"
            ]
          },
          "metadata": {},
          "execution_count": 10
        }
      ]
    },
    {
      "cell_type": "code",
      "source": [
        "# date_filed = dd.to_datetime()\n",
        "# %timeit dd.to_datetime(date_filed).compute()\n",
        "# date_filed = date_filed.map_partitions(dd.to_datetime,format='%Y/%m/%d',meta = ('datetime64[ns]'))\n",
        "# type(date_filed.head()[0])"
      ],
      "metadata": {
        "id": "F1C4cuLPtZbF"
      },
      "execution_count": null,
      "outputs": []
    },
    {
      "cell_type": "code",
      "source": [
        "date_filed.astype('datetime64[ns]').compute()\n",
        "date_filed"
      ],
      "metadata": {
        "colab": {
          "base_uri": "https://localhost:8080/"
        },
        "id": "WN0AYkHIyuUq",
        "outputId": "bd4e35d7-7354-40c5-83d3-21d768847842"
      },
      "execution_count": null,
      "outputs": [
        {
          "output_type": "execute_result",
          "data": {
            "text/plain": [
              "Dask Series Structure:\n",
              "npartitions=13\n",
              "    object\n",
              "       ...\n",
              "     ...  \n",
              "       ...\n",
              "       ...\n",
              "Name: date_of_filing, dtype: object\n",
              "Dask Name: getitem, 26 tasks"
            ]
          },
          "metadata": {},
          "execution_count": 55
        }
      ]
    },
    {
      "cell_type": "code",
      "source": [
        "# date_decide.astype('M8[us]')\n",
        "# date_decide\n",
        "%timeit dd.to_datetime(date_decide, infer_datetime_format = True)\n",
        "date_decide"
      ],
      "metadata": {
        "colab": {
          "base_uri": "https://localhost:8080/"
        },
        "id": "3MLwBgx3zmil",
        "outputId": "7c14f049-b077-4cdf-ccb6-007c8d7f0e79"
      },
      "execution_count": null,
      "outputs": [
        {
          "output_type": "stream",
          "name": "stdout",
          "text": [
            "1.2 ms ± 27 µs per loop (mean ± std. dev. of 7 runs, 100 loops each)\n"
          ]
        },
        {
          "output_type": "execute_result",
          "data": {
            "text/plain": [
              "Dask Series Structure:\n",
              "npartitions=13\n",
              "    object\n",
              "       ...\n",
              "     ...  \n",
              "       ...\n",
              "       ...\n",
              "Name: date_of_decision, dtype: object\n",
              "Dask Name: getitem, 26 tasks"
            ]
          },
          "metadata": {},
          "execution_count": 14
        }
      ]
    },
    {
      "cell_type": "code",
      "source": [
        "%timeit dd.to_datetime(date_decide)\n",
        "date_decide.head()"
      ],
      "metadata": {
        "colab": {
          "base_uri": "https://localhost:8080/"
        },
        "id": "U7yLJbJ2uv2g",
        "outputId": "8e5cead2-8032-4006-f9a2-bb8b4b185026"
      },
      "execution_count": null,
      "outputs": [
        {
          "output_type": "stream",
          "name": "stdout",
          "text": [
            "1.21 ms ± 29.2 µs per loop (mean ± std. dev. of 7 runs, 1000 loops each)\n"
          ]
        },
        {
          "output_type": "execute_result",
          "data": {
            "text/plain": [
              "0    2011-06-19\n",
              "1    2010-11-21\n",
              "2    2010-11-21\n",
              "3    2010-11-21\n",
              "4    2010-11-21\n",
              "Name: date_of_decision, dtype: object"
            ]
          },
          "metadata": {},
          "execution_count": 47
        }
      ]
    },
    {
      "cell_type": "code",
      "source": [
        "date_decide.sub(date_filed).compute()"
      ],
      "metadata": {
        "id": "AbIbEFjI1JMy"
      },
      "execution_count": null,
      "outputs": []
    },
    {
      "cell_type": "code",
      "source": [
        "days_taken = (date_decide - date_filed).dt.days\n",
        "print(days_taken.compute())\n"
      ],
      "metadata": {
        "id": "q_Twnqx0uazm"
      },
      "execution_count": null,
      "outputs": []
    },
    {
      "cell_type": "markdown",
      "source": [
        "disp_name.csv\n",
        "* in year 2010, % cases withdrawn\n",
        "* how the percentage has changed over years\n",
        "* mostly case is referred to the lok adalat\n",
        "* cases that have been referred to lok adalat list - what is type_name\n",
        "* which court refers to lok adalat the most"
      ],
      "metadata": {
        "id": "_jOYt9TDPceA"
      }
    },
    {
      "cell_type": "markdown",
      "source": [
        "cases_district_key.csv\n",
        "* which state has the least number of female_petitioners\n",
        "* what type of cases have had a change in judge - how much time have these cases taken to conclude"
      ],
      "metadata": {
        "id": "XComiZhMg_j6"
      }
    },
    {
      "cell_type": "markdown",
      "source": [
        "female petitioners\n",
        "* 0 - male , 1 - female\n",
        "* "
      ],
      "metadata": {
        "id": "VZiJ_vI-cJhF"
      }
    }
  ],
  "metadata": {
    "colab": {
      "provenance": [],
      "authorship_tag": "ABX9TyPepo2iga+yU4S1g7CL7vKg",
      "include_colab_link": true
    },
    "kernelspec": {
      "display_name": "Python 3",
      "name": "python3"
    },
    "language_info": {
      "name": "python"
    }
  },
  "nbformat": 4,
  "nbformat_minor": 0
}